{
 "cells": [
  {
   "cell_type": "markdown",
   "metadata": {
    "id": "G0BcK0H_G1Iu"
   },
   "source": [
    "# **AP155 Lab Assignment** \n",
    "## Module 1: Integrals and Derivatives\n",
    "\n",
    "_Instructions_: Answer each problem as completely as you can. Discuss **all** your answers as clearly and concisely as possible. \n",
    "\n",
    "_Scoring Criteria_: 50% - *correctness of code*; 50% - *discussion of the code and results*. Maximum score is **100 points** (Problems 1 to 5 are worth 20, 20, 10, 30, and 20 points, respectively).\n",
    "\n",
    "_Due Date_: **5PM of November 3 (Thu)**\n",
    "\n"
   ]
  },
  {
   "cell_type": "markdown",
   "metadata": {
    "id": "PeHZ9kP8JaVR"
   },
   "source": [
    "### Student Information \n",
    "\n",
    "_Full Name (Last Name, First Name)_: Cagas, Jethro Francis\\\n",
    "_Student No._: 2018-02343\\\n",
    "_Section_: HX4"
   ]
  },
  {
   "cell_type": "markdown",
   "metadata": {
    "id": "Hc183co-J4eI"
   },
   "source": [
    "### Submission Information\n",
    "\n",
    "_Date and Time Submitted (most recent upload)_: \n",
    "\n",
    "**HONOR PLEDGE** I affirm that I have upheld the highest principles of honesty and integrity in my academic work and that this lab assignment is my own work.\n",
    "\n",
    "**Sign here with your full name: Jethro Francis Cagas** "
   ]
  },
  {
   "cell_type": "markdown",
   "metadata": {
    "id": "X1UGsRpW-eQs"
   },
   "source": [
    "### Grading Information (c/o Lab Instructor)\n",
    "\n",
    "TOTAL SCORE: **XX**/100\n",
    "\n",
    "Score breakdown:\n",
    "* Problem 1 - XX/20\n",
    "* Problem 2 - XX/20\n",
    "* Problem 3 - XX/10\n",
    "* Problem 4 - XX/30\n",
    "* Problem 5 - XX/20\n",
    "\n",
    "_Date and Time Scored (MM/DD/YYYY HH:MM AM/PM):_ "
   ]
  },
  {
   "cell_type": "markdown",
   "metadata": {
    "id": "LxWuqiCFMsEh"
   },
   "source": [
    "### PROBLEM 1 (20 pts.) \n",
    "**Integration using the trapezoidal rule and Simpson's rule**\n",
    "\n",
    "Calculate the integral of the function $ 2x^4 + 3x^2 + 4x + 5$ from $x=0$ to $x=5$.\n",
    "\n",
    "1. Do the numerical calculation using the trapezoidal rule with 10, 100, and 1,000 slices. Describe each step of the calculation clearly and concisely. *(8 pts.; 4 pts. for the code & 4 pts. for the discussion text)*\n",
    "\n",
    "2. What are the percentage errors of your answers in (1)? *(2 pts.)*\n",
    "\n",
    "3. Repeat the calculation using Simpson's rule with 10, 100, and 1,000 slices. Describe each step of the calculation clearly and concisely. *(8 pts.;  4 pts. for the code & 4 pts. for the discussion text)*\n",
    "\n",
    "4. What are the percentage errors of your answers in (3)? How do they compare with the results from (1) for the same number of slices? *(2 pts.)*\n",
    "\n"
   ]
  },
  {
   "cell_type": "markdown",
   "metadata": {
    "id": "GfIvqnNNG15C"
   },
   "source": [
    "# Manually Solved Value = 1450\n",
    "\n",
    "Using a Integral Calculator, this is the expected value of the definite integral."
   ]
  },
  {
   "cell_type": "markdown",
   "metadata": {
    "id": "Uwg3QHpNHJqE"
   },
   "source": [
    "# **Trapezoidal Rule**\n",
    "\n",
    "The Trapezoidal Rule, in simple terms, divides the functions into multiple (N) trapezoids. To get the area of the curve, we must add all the areas of the trapezoids we made (since it is easy to get the area of a trapezoid). The trick is to get a high value of N in order to get a more accurate answer since the top of the trapezoid will be more accurate to the curve of the function. This is now what will be coded below."
   ]
  },
  {
   "cell_type": "markdown",
   "metadata": {
    "id": "khDzahROGfiT"
   },
   "source": [
    "### **N=10**\n",
    "\n",
    "Starting first with 10 slices."
   ]
  },
  {
   "cell_type": "code",
   "execution_count": 1,
   "metadata": {
    "colab": {
     "base_uri": "https://localhost:8080/"
    },
    "executionInfo": {
     "elapsed": 367,
     "status": "ok",
     "timestamp": 1667456514688,
     "user": {
      "displayName": "Jethro Francis Cagas",
      "userId": "02213276841784919809"
     },
     "user_tz": -480
    },
    "id": "hMqWOsbIMoUh",
    "outputId": "62e2b3e4-c2c7-4b99-fe26-bf2ad371ae61"
   },
   "outputs": [
    {
     "name": "stdout",
     "output_type": "stream",
     "text": [
      "1471.4375\n",
      "Percent error = 1.478448275862069 %\n"
     ]
    }
   ],
   "source": [
    "# set up the function\n",
    "\n",
    "def f(x):\n",
    "  return 2*x**4 + 3*x**2 + 4*x + 5\n",
    "\n",
    "# set up the values of the variables\n",
    "# note that N will change for every value needed to be tested \n",
    "# (sorry po di pa po ako marunong mag array)\n",
    "\n",
    "N = 10\n",
    "a = 0\n",
    "b = 5\n",
    "h = (b-a)/N \n",
    "\n",
    "# set up Trapezoidal Rule Function\n",
    "s = 0.5*f(a) + 0.5*f(b)\n",
    "\n",
    "# set up Trapezoidal Rule Function (summation part)\n",
    "for k in range (1, N):\n",
    "  s += f(a+k*h)\n",
    "\n",
    "print (h*s)\n",
    "\n",
    "# Percent Error\n",
    "x = (((h*s)-1450) / 1450) *100\n",
    "\n",
    "print (\"Percent error = \" + str (x) + \" %\")"
   ]
  },
  {
   "cell_type": "markdown",
   "metadata": {},
   "source": [
    "We see that the answer is close to the manually solved value with an error of only 1.47.. %. Still, we can make it more accurate by increasing the number of N."
   ]
  },
  {
   "cell_type": "markdown",
   "metadata": {
    "id": "Zy5DkLRJGr9_"
   },
   "source": [
    "### **N=100**\n",
    "\n",
    "Using N=100, we now see a significant change."
   ]
  },
  {
   "cell_type": "code",
   "execution_count": 2,
   "metadata": {
    "colab": {
     "base_uri": "https://localhost:8080/"
    },
    "executionInfo": {
     "elapsed": 313,
     "status": "ok",
     "timestamp": 1667457746399,
     "user": {
      "displayName": "Jethro Francis Cagas",
      "userId": "02213276841784919809"
     },
     "user_tz": -480
    },
    "id": "CqBrsL-2GOu5",
    "outputId": "88f1f66c-908c-422b-ecf8-be6fbba55f4d"
   },
   "outputs": [
    {
     "name": "stdout",
     "output_type": "stream",
     "text": [
      "1450.2145812500003\n",
      "Percent error = 0.014798706896569988 %\n"
     ]
    }
   ],
   "source": [
    "# set up the function\n",
    "\n",
    "def f(x):\n",
    "  return 2*x**4 + 3*x**2 + 4*x + 5\n",
    "\n",
    "# set up the values of the variables\n",
    "# note that N will change for every value needed to be tested \n",
    "# (sorry po di pa po ako marunong mag array)\n",
    "\n",
    "N = 100\n",
    "a = 0\n",
    "b = 5\n",
    "h = (b-a)/N \n",
    "\n",
    "# set up Trapezoidal Rule Function\n",
    "s = 0.5*f(a) + 0.5*f(b)\n",
    "\n",
    "# set up Trapezoidal Rule Function (summation part)\n",
    "for k in range (1, N):\n",
    "  s += f(a+k*h)\n",
    "\n",
    "print (h*s)\n",
    "\n",
    "# Percent Error\n",
    "x = (((h*s)-1450) / 1450) *100\n",
    "\n",
    "print (\"Percent error = \" + str (x) + \" %\")"
   ]
  },
  {
   "cell_type": "markdown",
   "metadata": {},
   "source": [
    "The error became much smaller. We are getting more accurate answers."
   ]
  },
  {
   "cell_type": "markdown",
   "metadata": {
    "id": "Y58p_O2gGxWR"
   },
   "source": [
    "### **N=1000**\n",
    "\n",
    "As expected, having a higher N would mean a more accurate answer."
   ]
  },
  {
   "cell_type": "code",
   "execution_count": 3,
   "metadata": {
    "colab": {
     "base_uri": "https://localhost:8080/"
    },
    "executionInfo": {
     "elapsed": 332,
     "status": "ok",
     "timestamp": 1667457758130,
     "user": {
      "displayName": "Jethro Francis Cagas",
      "userId": "02213276841784919809"
     },
     "user_tz": -480
    },
    "id": "z7X4DSEAGWIu",
    "outputId": "095356b2-e071-4f95-8550-9c07224def46"
   },
   "outputs": [
    {
     "name": "stdout",
     "output_type": "stream",
     "text": [
      "1450.0021458331234\n",
      "Percent error = 0.00014798849127240326 %\n"
     ]
    }
   ],
   "source": [
    "# set up the function\n",
    "\n",
    "def f(x):\n",
    "  return 2*x**4 + 3*x**2 + 4*x + 5\n",
    "\n",
    "# set up the values of the variables\n",
    "# note that N will change for every value needed to be tested \n",
    "# (sorry po di pa po ako marunong mag array)\n",
    "\n",
    "N = 1000\n",
    "a = 0\n",
    "b = 5\n",
    "h = (b-a)/N \n",
    "\n",
    "# set up Trapezoidal Rule Function (w/o summation part)\n",
    "s = 0.5*f(a) + 0.5*f(b)\n",
    "\n",
    "# set up Trapezoidal Rule Function (summation part)\n",
    "for k in range (1, N):\n",
    "  s += f(a+k*h)\n",
    "\n",
    "print (h*s)\n",
    "\n",
    "# Percent Error\n",
    "x = (((h*s)-1450) / 1450) *100\n",
    "\n",
    "print (\"Percent error = \" + str (x) + \" %\")"
   ]
  },
  {
   "cell_type": "markdown",
   "metadata": {},
   "source": [
    "We can clearly see that the higher the value of N, the smaller the percent error will be which means that the answer is more accurate. But then, increasing the value of N requires more computing power and will be much slower with larger values. That is why another method is available for us to use. "
   ]
  },
  {
   "cell_type": "markdown",
   "metadata": {
    "id": "6c_nsrQkJ9Hv"
   },
   "source": [
    "# **Simpson's Rule**\n",
    "\n",
    "Simpson's Rule is similar to the Trapezoidal Rule. The difference is that instead of flat ceilings (like in a trapezoid), the top of each slice is a quadratic curve. This would mean that in lesser values of N, we get a more accurate result than in Trapezoidal Rule."
   ]
  },
  {
   "cell_type": "markdown",
   "metadata": {
    "id": "oUPByxOgNIHf"
   },
   "source": [
    "### **N = 10**\n",
    "\n"
   ]
  },
  {
   "cell_type": "code",
   "execution_count": 5,
   "metadata": {
    "colab": {
     "base_uri": "https://localhost:8080/"
    },
    "executionInfo": {
     "elapsed": 450,
     "status": "ok",
     "timestamp": 1667457376062,
     "user": {
      "displayName": "Jethro Francis Cagas",
      "userId": "02213276841784919809"
     },
     "user_tz": -480
    },
    "id": "IGGq2UhDKkAw",
    "outputId": "86d53701-9e23-4f17-ccbe-c2056461b605"
   },
   "outputs": [
    {
     "name": "stdout",
     "output_type": "stream",
     "text": [
      "1450.0833333333333\n",
      "Percent error = 0.005747126436776382 %\n"
     ]
    }
   ],
   "source": [
    "def f(x):\n",
    "  return 2*x**4 + 3*x**2 + 4*x + 5\n",
    "\n",
    "# same po above, still not confident in using arrays so manual po muna\n",
    "\n",
    "N = 10\n",
    "a = 0\n",
    "b = 5\n",
    "h = (b-a)/N\n",
    "\n",
    "# Simpson's Rule Formula (First part w/o summation)\n",
    "s = f(a) + f(b)\n",
    "\n",
    "# Simpson's Rule Formula (the ones with summation)\n",
    "for k in range (1, N, 2): #odd values of k\n",
    "  s += 4*f(a+k*h)\n",
    "for k in range (2, N, 2): #even values of k\n",
    "  s += 2*f(a+k*h)\n",
    "\n",
    "s = s*(1/3)*h\n",
    "\n",
    "print (s)\n",
    "\n",
    "x = ((s-1450 )/1450)*100\n",
    "\n",
    "print (\"Percent error = \" + str (x) + \" %\")\n"
   ]
  },
  {
   "cell_type": "markdown",
   "metadata": {},
   "source": [
    "We can see here that in just N=10, the percent error is significantly less than in the Trapezoidal Rule with the same N. Just like in the Trapezoidal Rule, we can get more accurate results with a higher value of N. This is more clear with the next codes below."
   ]
  },
  {
   "cell_type": "markdown",
   "metadata": {
    "id": "K6NBSpMXNdAH"
   },
   "source": [
    "### **N=100**\n"
   ]
  },
  {
   "cell_type": "code",
   "execution_count": 6,
   "metadata": {
    "colab": {
     "base_uri": "https://localhost:8080/"
    },
    "executionInfo": {
     "elapsed": 355,
     "status": "ok",
     "timestamp": 1667457495945,
     "user": {
      "displayName": "Jethro Francis Cagas",
      "userId": "02213276841784919809"
     },
     "user_tz": -480
    },
    "id": "dRmOV_u3Nf0O",
    "outputId": "eb682298-019d-4a0f-b740-31c809d8f314"
   },
   "outputs": [
    {
     "name": "stdout",
     "output_type": "stream",
     "text": [
      "1450.0000083333337\n",
      "Percent error = 5.747126657485657e-07 %\n"
     ]
    }
   ],
   "source": [
    "def f(x):\n",
    "  return 2*x**4 + 3*x**2 + 4*x + 5\n",
    "\n",
    "N = 100\n",
    "a = 0\n",
    "b = 5\n",
    "h = (b-a)/N\n",
    "\n",
    "# Simpson's Rule Formula (First part w/o summation)\n",
    "s = f(a) + f(b)\n",
    "\n",
    "# Simpson's Rule Formula (the ones with summation)\n",
    "for k in range (1, N, 2): #odd values of k\n",
    "  s += 4*f(a+k*h)\n",
    "for k in range (2, N, 2): #even values of k\n",
    "  s += 2*f(a+k*h)\n",
    "\n",
    "s = s*(1/3)*h\n",
    "\n",
    "print (s)\n",
    "\n",
    "x = ((s-1450 )/1450)*100\n",
    "\n",
    "print (\"Percent error = \" + str (x) + \" %\")"
   ]
  },
  {
   "cell_type": "markdown",
   "metadata": {
    "id": "-51GZWX1NnD8"
   },
   "source": [
    "### **N=1000**\n"
   ]
  },
  {
   "cell_type": "code",
   "execution_count": 6,
   "metadata": {
    "colab": {
     "base_uri": "https://localhost:8080/"
    },
    "executionInfo": {
     "elapsed": 300,
     "status": "ok",
     "timestamp": 1667457532262,
     "user": {
      "displayName": "Jethro Francis Cagas",
      "userId": "02213276841784919809"
     },
     "user_tz": -480
    },
    "id": "8bQ3-bo1NqVI",
    "outputId": "65fa70bc-e549-481f-b8e5-08b8709693dd"
   },
   "outputs": [
    {
     "name": "stdout",
     "output_type": "stream",
     "text": [
      "1450.0000000008342\n",
      "Percent error = 5.753338035870472e-11 %\n"
     ]
    }
   ],
   "source": [
    "def f(x):\n",
    "  return 2*x**4 + 3*x**2 + 4*x + 5\n",
    "\n",
    "N = 1000\n",
    "a = 0\n",
    "b = 5\n",
    "h = (b-a)/N\n",
    "\n",
    "# Simpson's Rule Formula (First part w/o summation)\n",
    "s = f(a) + f(b)\n",
    "\n",
    "# Simpson's Rule Formula (the ones with summation)\n",
    "for k in range (1, N, 2): #odd values of k\n",
    "  s += 4*f(a+k*h)\n",
    "for k in range (2, N, 2): #even values of k\n",
    "  s += 2*f(a+k*h)\n",
    "\n",
    "s = s*(1/3)*h\n",
    "\n",
    "print (s)\n",
    "\n",
    "x = ((s-1450 )/1450)*100\n",
    "\n",
    "print (\"Percent error = \" + str (x) + \" %\")"
   ]
  },
  {
   "cell_type": "markdown",
   "metadata": {
    "id": "0g5oVJMhP2ei"
   },
   "source": [
    "**Question #4**\n",
    "\n",
    "\n",
    "As we discovered, the percent errors for the Simpson's Rule are indeed significantly smaller than those of the Trapezoidal Rule. \n",
    "\n",
    "For a better view, this is the summary of the results we have gotten:\n",
    "\n",
    "**N = 10**\n",
    "\n",
    "Trapezoidal Rule : 1.478448275862069 %\n",
    "\n",
    "Simpson's Rule : 0.005747126436776382 %\n",
    "\n",
    "**N = 100**\n",
    "\n",
    "Trapezoidal Rule : 0.014798706896569988 %\n",
    "\n",
    "Simpson's Rule : 5.747126657485657e-07 %\n",
    "\n",
    "**N = 1000**\n",
    "\n",
    "Trapezoidal Rule : 0.00014798849127240326 %\n",
    "\n",
    "Simpson's Rule : 5.753338035870472e-11 %\n",
    "\n"
   ]
  },
  {
   "cell_type": "markdown",
   "metadata": {
    "id": "kBX9EyMLOnXj"
   },
   "source": [
    "### PROBLEM 2 (20 pts.)\n",
    "\n",
    "**Integration using the adaptive trapezoidal rule method and Romberg integration**\n",
    "\n",
    "Calculate the integral $ I = \\int_0^1 \\sin^2 \\sqrt{100x} \\mbox{d}x $.\n",
    "\n",
    "1. Do the numerical calculation using the adaptive trapezoidal rule method to an approximate accuracy of $\\epsilon = 10^{-6}$. Start with one single integration slice and work up from there to two, four, eight, and so forth. Save and print out the number of slices, its estimate of the integral, and its estimate of the error on the integral, for each value of the number of slices $N$, until the target accuracy is reached. *(8 pts.; 4 pts. for the code & 4 pts. for the discussion text)*\n",
    "\n",
    "2. Repeat the calculation using the Romberg integration technique. Save and print out the same variables as in (1). *(8 pts.; 4 pts. for the code & 4 pts. for the discussion text)*\n",
    "\n",
    "3. Compare the results from both calculations by creating a plot of error estimates vs. $N$. Annotate your chart completely (include proper axis labels and legend). Describe how the trends for the two techniques compare. *(4 pts.; 2 pts. for the chart & 2 pts. for the discussion text)*"
   ]
  },
  {
   "cell_type": "markdown",
   "metadata": {},
   "source": [
    "## **Adaptive Trapezoidal Rule**\n",
    "\n",
    "Now, we can use loop functions to automatically repeat the Trapezoidal Rule until it reaches a certain acceptable error. This is the adaptive Trapezoidal Rule. "
   ]
  },
  {
   "cell_type": "code",
   "execution_count": 2,
   "metadata": {
    "colab": {
     "base_uri": "https://localhost:8080/"
    },
    "id": "GABjwlXCR97i",
    "outputId": "5410cbb6-a23f-4e70-c6ca-a004e2968d74",
    "scrolled": true
   },
   "outputs": [
    {
     "name": "stdout",
     "output_type": "stream",
     "text": [
      "N = 1\n",
      "Integral = 0.147979484546652\n",
      "Error = 0.2840068384844493\n",
      "\n",
      "N = 2\n",
      "Integral = 0.3252319078064746\n",
      "Error = 0.05908414108660753\n",
      "\n",
      "N = 4\n",
      "Integral = 0.5122828507233315\n",
      "Error = 0.06235031430561895\n",
      "\n",
      "N = 8\n",
      "Integral = 0.40299744847824825\n",
      "Error = 0.036428467415027734\n",
      "\n",
      "N = 16\n",
      "Integral = 0.43010336929474696\n",
      "Error = 0.009035306938832902\n",
      "\n",
      "N = 32\n",
      "Integral = 0.4484146657874698\n",
      "Error = 0.006103765497574279\n",
      "\n",
      "N = 64\n",
      "Integral = 0.45391293121537596\n",
      "Error = 0.0018327551426353856\n",
      "\n",
      "N = 128\n",
      "Integral = 0.45534850437280205\n",
      "Error = 0.0004785243858086985\n",
      "\n",
      "N = 256\n",
      "Integral = 0.45571126645324095\n",
      "Error = 0.00012092069347963141\n",
      "\n",
      "N = 512\n",
      "Integral = 0.4558021996516643\n",
      "Error = 3.031106614111619e-05\n",
      "\n",
      "N = 1024\n",
      "Integral = 0.45582494813241997\n",
      "Error = 7.582826918558124e-06\n",
      "\n"
     ]
    }
   ],
   "source": [
    "# Adaptive Trapezoidal Rule\n",
    "\n",
    "from IPython.core import error\n",
    "from numpy import sin, sqrt\n",
    "import math\n",
    "import numpy as np \n",
    "import array as arr\n",
    "\n",
    "# Define the function\n",
    "def f(x):\n",
    "  return (sin(sqrt(100*x)))**2\n",
    "\n",
    "# Integration Limits\n",
    "a = 0\n",
    "b = 1\n",
    "\n",
    "N = 1\n",
    "err = 1 #placeholder\n",
    "O = 1 #placeholder\n",
    "\n",
    "# Array for the plot\n",
    "Nval = arr.array('d', [])\n",
    "Errval = arr.array('d', [])\n",
    "\n",
    "while err > 10e-6:\n",
    "    \n",
    "    # Number of Segments\n",
    "    h = (b-a)/N \n",
    "    \n",
    "    # set up Trapezoidal Rule Function (summation part)\n",
    "    s = 0\n",
    "    for k in range (1, N):\n",
    "      s += f(a+k*h)\n",
    "\n",
    "    # Integral estimate\n",
    "    J = 0.5*f(a) + 0.5*f(b) + s\n",
    "    I = h*J\n",
    "    \n",
    "    # error calculation\n",
    "    err = abs((1/3)*(I - O)) #pp. 156 Newman\n",
    "    \n",
    "    print(\"N = \" + str(N))\n",
    "    print(\"Integral = \" + str(I))\n",
    "    print(\"Error = \" + str(err))\n",
    "    print(\"\")\n",
    "    # store the current value to another variable\n",
    "    O = I\n",
    "    \n",
    "    # Add to Array\n",
    "    Nval.append(N)\n",
    "    Errval.append(err)\n",
    "    \n",
    "    # Increase number of N\n",
    "    N = N*2\n",
    "     "
   ]
  },
  {
   "cell_type": "markdown",
   "metadata": {},
   "source": [
    "What we did here is that until the error is greater than 10e-6, we will repeat the Trapezoidal Rule with a greater N (N=N^2). As we can see, the program stopped when N reached 1024. The error reached the acceptable value."
   ]
  },
  {
   "cell_type": "markdown",
   "metadata": {},
   "source": [
    "### **Romberg Integration**\n",
    "\n",
    "But the Adaptive Trapezoidal Rule takes a lot of effort. To make it more efficient with less effort, there is the Romberg Integration Method. It's a more complicated version of the Adaptive Trapezoidal wherein we get an initial integral value, get another value that is more accurate by increasing N and using the difference to find the error. Then N is increased using a matrix formula. \n",
    "\n",
    "The point is that it gets to the more accurate answer faster than the previous method we used."
   ]
  },
  {
   "cell_type": "code",
   "execution_count": 3,
   "metadata": {},
   "outputs": [
    {
     "name": "stderr",
     "output_type": "stream",
     "text": [
      "C:\\Users\\Jethr\\AppData\\Local\\Temp\\ipykernel_10456\\310542863.py:60: RuntimeWarning: divide by zero encountered in double_scalars\n",
      "  err = abs((I[1, i+1] - (I[2, i]))/I[1, i+1]) # Error Formula\n",
      "C:\\Users\\Jethr\\AppData\\Local\\Temp\\ipykernel_10456\\310542863.py:60: RuntimeWarning: invalid value encountered in double_scalars\n",
      "  err = abs((I[1, i+1] - (I[2, i]))/I[1, i+1]) # Error Formula\n"
     ]
    }
   ],
   "source": [
    "# Romberg Integration \n",
    "\n",
    "from IPython.core import error\n",
    "from numpy import sin, sqrt\n",
    "import math\n",
    "import numpy as np\n",
    "import array as arr\n",
    "\n",
    "# Define the function\n",
    "f = lambda x: (sin(sqrt(100*x)))**2\n",
    "\n",
    "# Integration Limits\n",
    "a = 0\n",
    "b = 1\n",
    "\n",
    "  \n",
    "# set up Trapezoidal Rule Function (summation part)\n",
    "def Trap(n, a, b):\n",
    "    # Number of Segments\n",
    "    h = (b-a)/N\n",
    "    # Summation Term\n",
    "    s = 0\n",
    "    for i in range (1, N):\n",
    "      s += f(a+i*h)\n",
    "    # Trapezoidal Integral Estimate\n",
    "    Trap = (h/2)*(f(a) + s + f(b))\n",
    "    return Trap\n",
    "\n",
    "# Initialize\n",
    "I = np.zeros((10,10))\n",
    "\n",
    "# Setting initial values for variables\n",
    "N = 1\n",
    "err = 100 #placeholder\n",
    "i = 1 #initial value\n",
    "p = 1\n",
    "j = 0\n",
    "\n",
    "# The Integration Function Setup using the defined Trap Function\n",
    "I[1,1] = Trap(N, a, b)\n",
    "\n",
    "# Array for the plot\n",
    "RNval = arr.array('d', [])\n",
    "RErrval = arr.array('d', [])\n",
    "\n",
    "while err > 10e-6:\n",
    "    \n",
    "    # Increase number of N\n",
    "    N = 2**i\n",
    "    \n",
    "    # Get the next integral estimate\n",
    "    I[i+1, 1] = Trap(N, a, b)\n",
    "    \n",
    "    # Romberg Integration\n",
    "    for k in range (2, i + 2):\n",
    "        j = 2 + i - k\n",
    "        I[j, k] = (4**(k-1)*I[j+1,k-1] - I[j, k-1])/(4**(k-1)-1)\n",
    "\n",
    "    # error calculation\n",
    "        err = abs((I[1, i+1] - (I[2, i]))/I[1, i+1]) # Error Formula\n",
    "    \n",
    "    # print(\"N = \" + str(N))\n",
    "    # print(\"Integral = \")\n",
    "    # print(I)\n",
    "    # print(\"Error = \" + str(err))\n",
    "    # print(\"\")  \n",
    "     \n",
    "    # Add to Array\n",
    "    RNval.append(N)\n",
    "    RErrval.append(err)\n",
    "    \n",
    "    # Increase p\n",
    "    i = i + 1\n",
    "    "
   ]
  },
  {
   "cell_type": "code",
   "execution_count": 4,
   "metadata": {},
   "outputs": [
    {
     "data": {
      "image/png": "[encoded data removed]",
      "text/plain": [
       "<Figure size 640x480 with 1 Axes>"
      ]
     },
     "metadata": {},
     "output_type": "display_data"
    }
   ],
   "source": [
    "import matplotlib.pyplot as plt\n",
    "\n",
    "plt.plot(Nval, Errval, 'o--', label='Adapative Trapezoidal')\n",
    "plt.plot(RNval, RErrval, 'o--', label='Romberg Integration')\n",
    "plt.xscale('symlog')\n",
    "plt.gca().set_yscale('log')\n",
    "plt.xlabel(\"N Values\")\n",
    "plt.ylabel(\"Error Estimates\")\n",
    "plt.legend()\n",
    "plt.show()\n"
   ]
  },
  {
   "cell_type": "markdown",
   "metadata": {},
   "source": [
    "As we can see in the graph, the Romberg Integration reached the desired error estimate of 10^-6 faster than the Adaptive Trapezoidal. This shows that it is more accurate with using significantly less values of N."
   ]
  },
  {
   "cell_type": "markdown",
   "metadata": {
    "id": "m2a6sg90R-NX"
   },
   "source": [
    "### PROBLEM 3 (10 pts.)\n",
    "\n",
    "**Integration using Gaussian quadrature**\n",
    "\n",
    "Calculate the integral from Problem 1 using the Gaussian quadrature method: $ 2x^4 + 3x^2 + 4x + 5$ from $x=0$ to $x=5$.\n",
    "\n",
    "1. Define the function $\\tt gaussxw$ from Appendix E of the Newman text (and run the cell). *(2 pts.)*\n",
    "\n",
    "2. Calculate the integral using the $\\tt gaussxw$ function in (1) and number of slices $N = 3$. Describe each step in the calculation clearly and concisely. *(8 pts.; 4 pts. for the code & 4 pts. for the discussion text)*"
   ]
  },
  {
   "cell_type": "code",
   "execution_count": 10,
   "metadata": {
    "id": "bYtUWlcATC-a"
   },
   "outputs": [],
   "source": [
    "from numpy import ones, copy, cos, tan, pi, linspace\n",
    "\n",
    "def gaussxw(N):\n",
    "\n",
    "    # Initial approximation to roots of the Legendre polynomial\n",
    "    a = linspace(3,4*N-1,N)/(4*N+2)\n",
    "    x = cos(pi*a+1/(8*N*N*tan(a)))\n",
    "\n",
    "    # Find roots using Newton's method\n",
    "    epsilon = 1e-15\n",
    "    delta = 1.0\n",
    "    while delta>epsilon:\n",
    "        p0 = ones(N,float)\n",
    "        p1 = copy(x)\n",
    "        for k in range(1,N):\n",
    "            p0,p1 = p1,((2*k+1)*x*p1-k*p0)/(k+1)\n",
    "        dp = (N+1)*(p0-x*p1)/(1-x*x)\n",
    "        dx = p1/dp\n",
    "        x -= dx\n",
    "        delta = max(abs(dx))\n",
    "\n",
    "    # Calculate the weights\n",
    "    w = 2*(N+1)*(N+1)/(N*N*(1-x*x)*dp*dp)\n",
    "\n",
    "    return x,w\n",
    "\n",
    "def gaussxwab(N,a,b):\n",
    "    x,w = gaussxw(N)\n",
    "    return 0.5*(b-a)*x+0.5*(b+a),0.5*(b-a)*w"
   ]
  },
  {
   "cell_type": "markdown",
   "metadata": {},
   "source": [
    "This code was taken from the Newman text. \n",
    "\n",
    "It defines the gauessxwab function that we can use to the the integral of a function when the previous methods cannot work. "
   ]
  },
  {
   "cell_type": "code",
   "execution_count": 11,
   "metadata": {
    "colab": {
     "base_uri": "https://localhost:8080/"
    },
    "executionInfo": {
     "elapsed": 6,
     "status": "ok",
     "timestamp": 1667460103994,
     "user": {
      "displayName": "Jethro Francis Cagas",
      "userId": "02213276841784919809"
     },
     "user_tz": -480
    },
    "id": "YO_PDJ4VIVs5",
    "outputId": "0d7ba106-d42c-43aa-b059-f126f7178946"
   },
   "outputs": [
    {
     "name": "stdout",
     "output_type": "stream",
     "text": [
      "1450.000000000002\n"
     ]
    }
   ],
   "source": [
    "# Setup the function being integrated\n",
    "\n",
    "def f(x):\n",
    "  return 2*x**4 + 3*x**2 + 4*x + 5\n",
    "\n",
    "N = 3\n",
    "a = 0.0\n",
    "b = 5\n",
    "\n",
    "# setting up the weights\n",
    "x, w = gaussxw (N)\n",
    "xp = 0.5*(b-a)*x + 0.5*(b+a)\n",
    "wp = 0.5*(b-a)*w\n",
    "\n",
    "# calculating the integral\n",
    "s = 0.0\n",
    "for k in range (N):\n",
    "  s += wp[k]*f(xp[k])\n",
    "\n",
    "print (s)"
   ]
  },
  {
   "cell_type": "markdown",
   "metadata": {},
   "source": [
    "As we can see, this produced a very accurate answer. We will see it more in action at the next part. "
   ]
  },
  {
   "cell_type": "markdown",
   "metadata": {
    "id": "HceOjNu-VfN9"
   },
   "source": [
    "### PROBLEM 4 (30 pts.)\n",
    "\n",
    "**Physics Application: Anharmonic Oscillator**\n",
    "\n",
    "_Refer to Exercise 5.10 of the Newman text._ Consider an anharmonic oscillator with potential $V(x)$ symmetric about $x = 0$. Let us set our anharmonic oscillator going with amplitude $a$. That is, at $t = 0$ we release it from rest at position $x = a$ and it swings back towards the origin. Then at $t = 0$ we have $dx/dt = 0$ and the equation for its total energy becomes $E = V(a)$, i.e., the total energy of the particle is given in terms of the amplitude.\n",
    "\n",
    "When the particle reaches the origin for the first time, it has gone through one quarter of a period of the oscillator. The period $T$ is given by: $$ T = \\sqrt{8m} \\int_0^a \\frac{dx}{\\sqrt{V(a)-V(x)}}. $$\n",
    "\n",
    "1. Suppose the potential is $V(x) = x^4$ and the mass of the particle is $m = 1$. Write a Python function that calculates the period of the oscillator for given amplitude a using Gaussian quadrature with $N = 20$ points. Describe each step clearly and concisely. *(16 pts.; 8 pts. for the code & 8 pts. for the discussion text)*\n",
    "\n",
    "2. Use your function to make a graph of the period for amplitudes ranging from $a = 0$ to $a = 2$. Describe the behavior you find and explain these results clearly and concisely. *(14 pts.; 7 pts. for the plot & 7 pts. for the discussion text)*"
   ]
  },
  {
   "cell_type": "markdown",
   "metadata": {},
   "source": [
    "Let us first define the Gaussian Function again (for some reason, it won't work by just using the definition in the previous section above). "
   ]
  },
  {
   "cell_type": "code",
   "execution_count": 7,
   "metadata": {
    "id": "p28JF-OQYock"
   },
   "outputs": [],
   "source": [
    "import math\n",
    "from numpy import ones, copy, cos, tan, pi, linspace\n",
    "import array as arr\n",
    "\n",
    "# Define Gaussian Quadrature\n",
    "\n",
    "def gaussxw(N):\n",
    "\n",
    "    # Initial approximation to roots of the Legendre polynomial\n",
    "    a = linspace(3,4*N-1,N)/(4*N+2)\n",
    "    x = cos(pi*a+1/(8*N*N*tan(a)))\n",
    "\n",
    "    # Find roots using Newton's method\n",
    "    epsilon = 1e-15\n",
    "    delta = 1.0\n",
    "    while delta>epsilon:\n",
    "        p0 = ones(N,float)\n",
    "        p1 = copy(x)\n",
    "        for k in range(1,N):\n",
    "            p0,p1 = p1,((2*k+1)*x*p1-k*p0)/(k+1)\n",
    "        dp = (N+1)*(p0-x*p1)/(1-x*x)\n",
    "        dx = p1/dp\n",
    "        x -= dx\n",
    "        delta = max(abs(dx))\n",
    "\n",
    "    # Calculate the weights\n",
    "    w = 2*(N+1)*(N+1)/(N*N*(1-x*x)*dp*dp)\n",
    "\n",
    "    return x,w\n",
    "\n",
    "def gaussxwab(N,a,b):\n",
    "    x,w = gaussxw(N)\n",
    "    return 0.5*(b-a)*x+0.5*(b+a),0.5*(b-a)*w\n"
   ]
  },
  {
   "cell_type": "markdown",
   "metadata": {},
   "source": [
    "Now, we are using Gaussian Quadrature because the Trapezoidal and Simpson's Rules wont work on it. This is because the function is undefined and asymptotic at x=0. Simply spoken, we cannot make trapezoids over infinity. Good thing, Gaussian Quadrature can do these things with ease."
   ]
  },
  {
   "cell_type": "code",
   "execution_count": 8,
   "metadata": {},
   "outputs": [
    {
     "name": "stdout",
     "output_type": "stream",
     "text": [
      "At a = 2, the period is: 1.8240470420216075 seconds\n"
     ]
    }
   ],
   "source": [
    "# Python Code to get the Period of the oscillator\n",
    "\n",
    "# Setup initial values and constants\n",
    "Amp = 2 # Test value for an amplitude \n",
    "N = 20\n",
    "a = 0\n",
    "b = Amp\n",
    "m = 1\n",
    "\n",
    "\n",
    "# Define Function \n",
    "def f(x):\n",
    "  return math.sqrt(8*m)/(math.sqrt(Amp**4-x**4)) # \"Amp**4\" is V(x) = V(a) = a^4\n",
    "\n",
    "# setting up the weights\n",
    "x, w = gaussxw (N)\n",
    "xp = 0.5*(b-a)*x + 0.5*(b+a)\n",
    "wp = 0.5*(b-a)*w\n",
    "\n",
    "# calculating the integral\n",
    "s = 0.0\n",
    "for k in range (N):\n",
    "  s += wp[k]*f(xp[k])\n",
    "\n",
    "# Test print to see if the code works\n",
    "print (\"At a = 2, the period is: \" + str(s) + \" seconds\")"
   ]
  },
  {
   "cell_type": "code",
   "execution_count": 9,
   "metadata": {},
   "outputs": [],
   "source": [
    "# Graphing the period for a=0 to a=2\n",
    "\n",
    "# Setup initial values and constants\n",
    "Amp = 0.1 \n",
    "# We'll start with 0.1 since a=0 gives undefined values \n",
    "# (which is accurate given that there would be no oscilation \n",
    "# if there is no distance)\n",
    "\n",
    "N = 20\n",
    "a = 0\n",
    "b = Amp\n",
    "m = 1\n",
    "\n",
    "# Set up the x and y axis arrays\n",
    "Tval = arr.array('d', []) # Period Values (y-axis)\n",
    "Aval = arr.array('d', []) # Amplitude Values (x-axis)\n",
    "\n",
    "# Setup the Function and Gaussian \n",
    "\n",
    "# Define Function \n",
    "def f(x):\n",
    "  return math.sqrt(8*m)/(math.sqrt(Amp**4-x**4)) # \"Amp**4\" is V(x) = V(a) = a^4\n",
    "\n",
    "# setting up the weights\n",
    "x, w = gaussxw (N)\n",
    "xp = 0.5*(b-a)*x + 0.5*(b+a)\n",
    "wp = 0.5*(b-a)*w\n",
    "\n",
    "# We'll loop the function and make the values append in the array\n",
    "\n",
    "while Amp < 2:\n",
    "    \n",
    "    # calculating the integral\n",
    "    s = 0.0\n",
    "    for k in range (N):\n",
    "      s += wp[k]*f(xp[k])\n",
    "    \n",
    "     # Add to Array\n",
    "    Tval.append(s)\n",
    "    Aval.append(Amp)\n",
    "    \n",
    "    # Increase Amp\n",
    "    Amp = Amp + 0.1\n"
   ]
  },
  {
   "cell_type": "code",
   "execution_count": 10,
   "metadata": {},
   "outputs": [
    {
     "data": {
      "image/png": "[encoded data removed]",
      "text/plain": [
       "<Figure size 640x480 with 1 Axes>"
      ]
     },
     "metadata": {},
     "output_type": "display_data"
    }
   ],
   "source": [
    "import matplotlib.pyplot as plt\n",
    "\n",
    "plt.plot(Aval, Tval, 'o--')\n",
    "plt.xlabel(\"Amplitude\")\n",
    "plt.ylabel(\"Period\")\n",
    "\n",
    "plt.show()"
   ]
  },
  {
   "cell_type": "markdown",
   "metadata": {},
   "source": [
    "With that, we can see that the period decreases as the amplitude increaeses. This means that the longer the amplitude, the faster the oscillation. It also becomes faster at a somehow exponential rate (based on the graph)."
   ]
  },
  {
   "cell_type": "markdown",
   "metadata": {},
   "source": [
    "To further understand this, let us show the potential graph."
   ]
  },
  {
   "cell_type": "code",
   "execution_count": 15,
   "metadata": {},
   "outputs": [
    {
     "data": {
      "image/png": "[encoded data removed]",
      "text/plain": [
       "<Figure size 640x480 with 1 Axes>"
      ]
     },
     "metadata": {},
     "output_type": "display_data"
    }
   ],
   "source": [
    "import matplotlib.pyplot as plt\n",
    "import numpy as np\n",
    "\n",
    "xpoints = np.linspace(-2,2)\n",
    "ypoints = xpoints**4\n",
    "plt.plot(xpoints, ypoints)\n",
    "plt.xlabel(\"X\")\n",
    "plt.ylabel(\"V(x)\")\n",
    "\n",
    "plt.show()"
   ]
  },
  {
   "cell_type": "markdown",
   "metadata": {},
   "source": [
    "At small values of x, the potential is very very close to zero."
   ]
  },
  {
   "cell_type": "markdown",
   "metadata": {
    "id": "BY5x-mZsYoqG"
   },
   "source": [
    "### PROBLEM 5 (20 pts.)\n",
    "\n",
    "**Differentiation using central difference**\n",
    "\n",
    "1. Calculate the derivative of the function $1 + \\frac{1}{2} \\tanh 2x$ in the range $-2 \\le x \\le 2$ using central difference. Describe each step of the calculation clearly and concisely. *(10 pts.; 5 pts. for the code & 5 pts. for the discussion text)*\n",
    "\n",
    "2. Calculate an analytic formula for the derivative and make a graph with your numerical result and the analytic answer on the same plot. Plot the exact answer as lines and the numerical one as dots. Describe how the two results compare. *(10 pts.; 5 pts. for the code & 5 pts. for the discussion text)*"
   ]
  },
  {
   "cell_type": "code",
   "execution_count": 23,
   "metadata": {
    "id": "ZWXWJyYdLS5G"
   },
   "outputs": [],
   "source": [
    "# Import things\n",
    "\n",
    "import numpy as np\n",
    "import matplotlib.pyplot as plt\n",
    "%matplotlib inline\n",
    "import mpmath as mp\n",
    "import array as arr\n",
    "import math\n",
    "\n",
    "# Since we cannot use zero for it will be undefined, we will use a number\n",
    "# that is close to zero. Hence, h = 10^-15\n",
    "\n",
    "h = 10**-5\n",
    "\n",
    "# We define the Function\n",
    "def f(x):\n",
    "    return 1 + 0.5 * (np.tanh(x*2))\n",
    "\n",
    "# We also define the Central Difference formula for finding the derivative\n",
    "def derivative(x):\n",
    "    return (f(x + h/2) - f(x -h/2))/h\n",
    "\n",
    "# To produce the graphs, we need to setup blank arrays.\n",
    "Xval = arr.array('d', []) # Period Values (y-axis)\n",
    "Yval = arr.array('d', []) # Amplitude Values (x-axis)\n",
    "\n",
    "# We then give initial values to our program.\n",
    "x = -2\n",
    "y = 0\n",
    "\n",
    "# Since we are evaluating from -2 to +2, we started the program at x=-2.\n",
    "# Then, we used a while loop so the program runs while x is less than 2.\n",
    "\n",
    "while x < 2:\n",
    "    Xval.append(x) # This adds the x values of each loop to the array.\n",
    "    y = derivative(x) # This computes the resulting derivative value for each x\n",
    "    Yval.append(y) # This adds the y values of each loop to the array.\n",
    "    x = x + 0.1 # This increases the value of x so that the loop can continue.\n",
    "    \n",
    "# The Analytic Derivative of the function is sech^2(x) or 1/cosh^2(x)\n",
    "\n",
    "z = np.linspace(-2,2)\n",
    "a = 1/((np.cosh(z*2))**2)\n"
   ]
  },
  {
   "cell_type": "code",
   "execution_count": 25,
   "metadata": {},
   "outputs": [
    {
     "data": {
      "image/png": "[encoded data removed]",
      "text/plain": [
       "<Figure size 640x480 with 1 Axes>"
      ]
     },
     "metadata": {},
     "output_type": "display_data"
    }
   ],
   "source": [
    "import matplotlib.pyplot as plt\n",
    "\n",
    "# Plotting the graph\n",
    "\n",
    "plt.plot(Xval, Yval, 'o', label='Numerical')\n",
    "plt.plot(z,a, label='Analytic')\n",
    "plt.xlabel(\"x-axis\")\n",
    "plt.ylabel(\"y-axis\")\n",
    "plt.legend()\n",
    "\n",
    "\n",
    "plt.show()"
   ]
  },
  {
   "cell_type": "markdown",
   "metadata": {},
   "source": [
    "We can see that the two Graphs are very close with one another. They are also accurate. This means that the derivative that we got is correct (as shown with the blue dots)."
   ]
  }
 ],
 "metadata": {
  "colab": {
   "collapsed_sections": [],
   "provenance": [
    {
     "file_id": "1LPYjBevQPM9yADr7E38l5r-On5fB_VoS",
     "timestamp": 1667453273547
    }
   ]
  },
  "kernelspec": {
   "display_name": "Python 3 (ipykernel)",
   "language": "python",
   "name": "python3"
  },
  "language_info": {
   "codemirror_mode": {
    "name": "ipython",
    "version": 3
   },
   "file_extension": ".py",
   "mimetype": "text/x-python",
   "name": "python",
   "nbconvert_exporter": "python",
   "pygments_lexer": "ipython3",
   "version": "3.9.13"
  }
 },
 "nbformat": 4,
 "nbformat_minor": 1
}
